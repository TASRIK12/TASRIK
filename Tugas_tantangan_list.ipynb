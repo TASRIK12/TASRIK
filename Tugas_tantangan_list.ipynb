{
  "nbformat": 4,
  "nbformat_minor": 0,
  "metadata": {
    "colab": {
      "name": "Tugas tantangan list",
      "provenance": [],
      "collapsed_sections": [],
      "authorship_tag": "ABX9TyMYlu5vgZGQvPH36zGz+RVH",
      "include_colab_link": true
    },
    "kernelspec": {
      "name": "python3",
      "display_name": "Python 3"
    },
    "language_info": {
      "name": "python"
    }
  },
  "cells": [
    {
      "cell_type": "markdown",
      "metadata": {
        "id": "view-in-github",
        "colab_type": "text"
      },
      "source": [
        "<a href=\"https://colab.research.google.com/github/TASRIK12/TASRIK/blob/main/Tugas_tantangan_list.ipynb\" target=\"_parent\"><img src=\"https://colab.research.google.com/assets/colab-badge.svg\" alt=\"Open In Colab\"/></a>"
      ]
    },
    {
      "cell_type": "code",
      "execution_count": null,
      "metadata": {
        "colab": {
          "base_uri": "https://localhost:8080/"
        },
        "id": "IJI8dCrqwxYM",
        "outputId": "d1e8b232-fc03-4b12-9bdb-c23ac8eaa7ad"
      },
      "outputs": [
        {
          "output_type": "stream",
          "name": "stdout",
          "text": [
            "1. menambah\n",
            "2. menghapus\n",
            "3. mengedit\n",
            "4. menampilkan\n",
            "5. cari barang\n",
            "6. cari index\n",
            "7. keluar\n"
          ]
        }
      ],
      "source": [
        "brg = [ ]\n",
        "\n",
        "perintah = 0                                                         \n",
        "\n",
        "while perintah != 7:\n",
        "    print('''1. menambah\n",
        "2. menghapus\n",
        "3. mengedit\n",
        "4. menampilkan\n",
        "5. cari barang\n",
        "6. cari index\n",
        "7. keluar''')\n",
        "    perintah = int(input(\"masukkan perintah: \"))\n",
        "    if perintah == 1:\n",
        "      while True:\n",
        "        elem =(input(\"masukkan barang: \"))\n",
        "        brg.append(elem)\n",
        "        \n",
        "        stop = input(\"ketik y untuk berhenti, selain itu anjut: \").lower()\n",
        "        if stop == 'y' :\n",
        "          break\n",
        "\n",
        "\n",
        "    elif perintah == 2:\n",
        "      while True:\n",
        "        hps = int(input(\"masukkan index yang ingin di hapus: \" ))\n",
        "        brg.pop(hps)\n",
        "        stop = input(\"ketik y untuk berhenti, selain itu anjut: \").lower()\n",
        "        if stop == 'y' :\n",
        "          break\n",
        "\n",
        "    elif perintah == 3:\n",
        "      while True:\n",
        "        edit = int(input(\"masukkan index yang ingin di edit: \" ))\n",
        "        brg [edit] = input(\"masukkan barang yang di edit: \")\n",
        "        stop = input(\"ketik y untuk berhenti, selain itu anjut: \").lower()\n",
        "        if stop == 'y' :\n",
        "          break\n",
        "    elif perintah == 4:\n",
        "        for i in range(len(brg)):\n",
        "          print(brg[i])   \n",
        "    \n",
        "    elif perintah == 5:\n",
        "      cari = input(\"cari barang: \")\n",
        "      for i in range(len(brg)):\n",
        "        if brg [i] == cari:\n",
        "          print(\"barang ada dalam list: \")\n",
        "\n",
        "\n",
        "\n",
        "     \n",
        "    elif perintah == 6 :\n",
        "       cari = input(\"masukkan barang yang di input : \")\n",
        "       print(brg.index(cari))\n",
        "print(brg)"
      ]
    }
  ]
}